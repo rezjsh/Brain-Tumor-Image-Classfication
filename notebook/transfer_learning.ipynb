{
 "cells": [
  {
   "cell_type": "code",
   "execution_count": null,
   "metadata": {},
   "outputs": [],
   "source": [
    "%pwd"
   ]
  },
  {
   "cell_type": "code",
   "execution_count": null,
   "metadata": {},
   "outputs": [],
   "source": [
    "%cd ..\n"
   ]
  },
  {
   "cell_type": "code",
   "execution_count": null,
   "metadata": {},
   "outputs": [],
   "source": [
    "%pwd"
   ]
  },
  {
   "cell_type": "code",
   "execution_count": null,
   "metadata": {},
   "outputs": [],
   "source": [
    "from dataclasses import dataclass\n",
    "import matplotlib.pyplot as plt\n",
    "import os\n",
    "import tensorflow as tf\n",
    "from pathlib import Path\n",
    "import pickle\n",
    "\n",
    "@dataclass\n",
    "class TransferLearning:\n",
    "    root_dir: Path\n",
    "    train_dir: Path\n",
    "    val_dir: Path\n",
    "    base_model_path: Path\n",
    "    epochs: int\n",
    "    batch_size: int\n",
    "    learning_rate: float\n",
    "    callback_path: Path\n",
    "\n",
    "\n",
    "    def __post_init__(self):\n",
    "        self.train_dataset = tf.data.Dataset.load(self.train_dir)\n",
    "        self.val_dataset = tf.data.Dataset.load(self.val_dir)\n",
    "        self.base_model = tf.keras.models.load_model(self.base_model_path, safe_mode=False)\n",
    "        with open(self.callback_path, 'rb') as handle:\n",
    "            self.callbacks = pickle.load(handle)\n",
    "\n",
    "    def train(self):\n",
    "        self.base_model.compile(\n",
    "            loss=tf.keras.losses.BinaryCrossentropy(),\n",
    "            optimizer = tf.keras.optimizers.Adam(learning_rate=self.learning_rate),\n",
    "            metrics=[tf.keras.metrics.BinaryAccuracy(threshold=0.5, name='accuracy')])\n",
    "        \n",
    "        self.history = self.base_model.fit(\n",
    "            self.train_dataset,\n",
    "            epochs=self.epochs,\n",
    "            validation_data=self.val_dataset,\n",
    "            callbacks=self.callbacks\n",
    "        )\n",
    "        self.save_model(self.base_model)\n",
    "\n",
    "    def save_plots(self):\n",
    "        \"\"\"\n",
    "        Saves the accuracy and loss plots for the training and validation sets.\n",
    "        \n",
    "        Args:\n",
    "            history (tf.keras.callbacks.History): The history object returned by the model.fit() method.\n",
    "        \"\"\"\n",
    "        \n",
    "        # Plot the accuracy\n",
    "        plt.figure(figsize=(8, 6))\n",
    "        plt.plot(self.history.history['accuracy'])\n",
    "        plt.plot(self.history.history['val_accuracy'])\n",
    "        plt.title('Model Accuracy')\n",
    "        plt.ylabel('Accuracy')\n",
    "        plt.xlabel('Epoch')\n",
    "        plt.legend(['Train', 'Validation'], loc='upper left')\n",
    "        plt.savefig(os.path.join(self.root_dir, 'accuracy.png'))\n",
    "        \n",
    "        # Plot the loss\n",
    "        plt.figure(figsize=(8, 6))\n",
    "        plt.plot(self.history.history['loss'])\n",
    "        plt.plot(self.history.history['val_loss'])\n",
    "        plt.title('Model Loss')\n",
    "        plt.ylabel('Loss')\n",
    "        plt.xlabel('Epoch')\n",
    "        plt.legend(['Train', 'Validation'], loc='upper right')\n",
    "        plt.savefig(os.path.join(self.root_dir, 'loss.png'))\n",
    "\n",
    "    def save_model(self, model):\n",
    "        \"\"\"\n",
    "        Saves the trained model to the specified output directory.\n",
    "        \n",
    "        Args:\n",
    "            model (tf.keras.Model): The trained model to be saved.\n",
    "        \"\"\"\n",
    "        # Save the model\n",
    "        model.save(os.path.join(self.root_dir, 'model.keras'))\n"
   ]
  },
  {
   "cell_type": "code",
   "execution_count": null,
   "metadata": {},
   "outputs": [],
   "source": [
    "from brainMRI.constants import *\n",
    "from brainMRI.utils.helpers import load_config, create_directories\n",
    "class ConfigHandler:\n",
    "    def __init__(self, file_path=CONFIG_FILE_PATH, params_path = PARAMS_FILE_PATH):\n",
    "        self.config = load_config(file_path)\n",
    "        self.params = load_config(params_path)\n",
    "        create_directories([self.config.root_dir])\n",
    "\n",
    "    \n",
    "    def get_transfer_learning_config(self) -> TransferLearning:\n",
    "        config = self.config.transfer_learning\n",
    "        params = self.params.transfer_learning\n",
    "\n",
    "        create_directories([config.root_dir])\n",
    "        transfer_learning_config = TransferLearning(\n",
    "            root_dir=config.root_dir,\n",
    "            train_dir=config.train_dir,\n",
    "            val_dir=config.val_dir,\n",
    "            base_model_path=config.base_model_path,\n",
    "            callback_path=config.callback_path,\n",
    "            epochs=params.epochs,\n",
    "            batch_size=params.batch_size,\n",
    "            learning_rate=params.learning_rate\n",
    "        )\n",
    "        return transfer_learning_config"
   ]
  },
  {
   "cell_type": "code",
   "execution_count": null,
   "metadata": {},
   "outputs": [],
   "source": [
    "try:\n",
    "    config = ConfigHandler()\n",
    "    transfer_learning_config = config.get_transfer_learning_config()\n",
    "    transfer_learning_config.train()\n",
    "    transfer_learning_config.save_plots()\n",
    "except Exception as e:\n",
    "    raise e"
   ]
  }
 ],
 "metadata": {
  "kernelspec": {
   "display_name": "brainMRI",
   "language": "python",
   "name": "python3"
  },
  "language_info": {
   "codemirror_mode": {
    "name": "ipython",
    "version": 3
   },
   "file_extension": ".py",
   "mimetype": "text/x-python",
   "name": "python",
   "nbconvert_exporter": "python",
   "pygments_lexer": "ipython3",
   "version": "3.12.0"
  }
 },
 "nbformat": 4,
 "nbformat_minor": 2
}
