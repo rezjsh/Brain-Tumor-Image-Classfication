{
 "cells": [
  {
   "cell_type": "code",
   "execution_count": null,
   "metadata": {},
   "outputs": [],
   "source": [
    "%pwd"
   ]
  },
  {
   "cell_type": "code",
   "execution_count": null,
   "metadata": {},
   "outputs": [],
   "source": [
    "%cd .."
   ]
  },
  {
   "cell_type": "code",
   "execution_count": null,
   "metadata": {},
   "outputs": [],
   "source": [
    "%pwd"
   ]
  },
  {
   "cell_type": "code",
   "execution_count": 5,
   "metadata": {},
   "outputs": [],
   "source": [
    "import os\n",
    "import zipfile\n",
    "import requests\n",
    "from pathlib import Path\n",
    "from brainMRI.logging import logger\n",
    "from dataclasses import dataclass\n",
    "\n",
    "@dataclass(frozen=True)\n",
    "class FetchData:\n",
    "    root_dir:Path\n",
    "    filepath: Path\n",
    "    extract_path: Path \n",
    "    data_url: str\n",
    "\n",
    "    def download_file(self) -> None:\n",
    "        \"\"\"\n",
    "        Downloads a file from a URL and saves it to the local file system.\n",
    "        \n",
    "        Args:\n",
    "            data_url (str): The URL of the file to download.\n",
    "            file_path (str): The local file path to save the downloaded file.\n",
    "            logger (logging.Logger): A logger object to log the progress.\n",
    "        \n",
    "        Returns:\n",
    "            None\n",
    "        \"\"\"\n",
    "        try:\n",
    "            os.makedirs(self.filepath, exist_ok=True)\n",
    "            file_path = os.path.join(os.getcwd(), self.filepath, 'file.zip')\n",
    "            response = requests.get(self.data_url, stream=True)\n",
    "            total_size = int(response.headers.get('content-length', 0))\n",
    "            block_size = 1024\n",
    "            downloaded = 0\n",
    "\n",
    "            logger.info(f\"Downloading file from: {self.data_url}\")\n",
    "            logger.info(f\"Saving file to: {file_path}\")\n",
    "            logger.info(f\"Total file size: {total_size / (1024 * 1024):.2f} MB\")\n",
    "\n",
    "            with open(file_path, 'wb') as file:\n",
    "                for chunk in response.iter_content(chunk_size=block_size):\n",
    "                    if chunk:\n",
    "                        file.write(chunk)\n",
    "                        downloaded += len(chunk)\n",
    "                        progress = round((downloaded / total_size) * 100, 2)\n",
    "                        logger.info(f'Downloaded {progress}% of the file')\n",
    "\n",
    "            logger.info('Download complete!')\n",
    "            logger.info(f\"File saved to: {file_path}\")\n",
    "        except Exception as e:\n",
    "            logger.error(f'Error downloading file: {e}')\n",
    "            return e\n",
    "\n",
    "            \n",
    "\n",
    "    def unzip_file(self):\n",
    "        \"\"\"\n",
    "        Extracts the contents of a ZIP file to the specified directory.\n",
    "        \n",
    "        Args:\n",
    "            file_path (str): The path to the ZIP file.\n",
    "            extract_path (str): The directory where the contents will be extracted.\n",
    "        \n",
    "        Returns:\n",
    "            None\n",
    "        \"\"\"\n",
    "        try:\n",
    "            os.makedirs(self.extract_path, exist_ok=True)\n",
    "            with zipfile.ZipFile(self.filepath + '/file.zip', 'r') as zip_ref:\n",
    "                zip_ref.extractall(self.extract_path)\n",
    "            logger.info(f'Extraction complete. Files extracted to {self.extract_path}')\n",
    "        except Exception as e:\n",
    "            logger.error(f'Error extracting file: {e}')"
   ]
  },
  {
   "cell_type": "code",
   "execution_count": 6,
   "metadata": {},
   "outputs": [],
   "source": [
    "from brainMRI.constants import *\n",
    "from brainMRI.utils.helpers import load_config, create_directories\n",
    "class ConfigHandler:\n",
    "    def __init__(self, file_path=CONFIG_FILE_PATH, params_path = PARAMS_FILE_PATH):\n",
    "        self.config = load_config(file_path)\n",
    "        create_directories([self.config.root_dir])\n",
    "\n",
    "    \n",
    "    def get_fetch_data_config(self) -> FetchData:\n",
    "        config = self.config.data\n",
    "        fetch_data_config = FetchData(\n",
    "            root_dir = config.root_dir,\n",
    "            filepath = config.filepath,\n",
    "            extract_path= config.extract_path,\n",
    "            data_url= config.data_url\n",
    "\n",
    "        )\n",
    "        return fetch_data_config"
   ]
  },
  {
   "cell_type": "code",
   "execution_count": null,
   "metadata": {},
   "outputs": [],
   "source": [
    "try:\n",
    "    config = ConfigHandler()\n",
    "    fetch_data_config = config.get_fetch_data_config()\n",
    "    fetch_data_config.download_file()\n",
    "    fetch_data_config.unzip_file()\n",
    "except Exception as e:\n",
    "    raise e"
   ]
  }
 ],
 "metadata": {
  "kernelspec": {
   "display_name": "Python 3",
   "language": "python",
   "name": "python3"
  },
  "language_info": {
   "codemirror_mode": {
    "name": "ipython",
    "version": 3
   },
   "file_extension": ".py",
   "mimetype": "text/x-python",
   "name": "python",
   "nbconvert_exporter": "python",
   "pygments_lexer": "ipython3",
   "version": "3.12.0"
  }
 },
 "nbformat": 4,
 "nbformat_minor": 2
}
