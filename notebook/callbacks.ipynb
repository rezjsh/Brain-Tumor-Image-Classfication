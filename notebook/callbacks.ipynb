{
 "cells": [
  {
   "cell_type": "code",
   "execution_count": 1,
   "metadata": {},
   "outputs": [
    {
     "data": {
      "text/plain": [
       "'e:\\\\PROJECTS\\\\ML\\\\Brain-Tumor-Image-Classfication\\\\notebook'"
      ]
     },
     "execution_count": 1,
     "metadata": {},
     "output_type": "execute_result"
    }
   ],
   "source": [
    "%pwd"
   ]
  },
  {
   "cell_type": "code",
   "execution_count": 2,
   "metadata": {},
   "outputs": [
    {
     "name": "stdout",
     "output_type": "stream",
     "text": [
      "e:\\PROJECTS\\ML\\Brain-Tumor-Image-Classfication\n"
     ]
    },
    {
     "name": "stderr",
     "output_type": "stream",
     "text": [
      "c:\\Users\\reza\\miniconda3\\envs\\brainMRI\\Lib\\site-packages\\IPython\\core\\magics\\osm.py:417: UserWarning: This is now an optional IPython functionality, setting dhist requires you to install the `pickleshare` library.\n",
      "  self.shell.db['dhist'] = compress_dhist(dhist)[-100:]\n"
     ]
    }
   ],
   "source": [
    "%cd .."
   ]
  },
  {
   "cell_type": "code",
   "execution_count": 3,
   "metadata": {},
   "outputs": [
    {
     "data": {
      "text/plain": [
       "'e:\\\\PROJECTS\\\\ML\\\\Brain-Tumor-Image-Classfication'"
      ]
     },
     "execution_count": 3,
     "metadata": {},
     "output_type": "execute_result"
    }
   ],
   "source": [
    "%pwd"
   ]
  },
  {
   "cell_type": "code",
   "execution_count": 19,
   "metadata": {},
   "outputs": [],
   "source": [
    "from dataclasses import dataclass\n",
    "import os\n",
    "from brainMRI.logging import logger\n",
    "import os\n",
    "from tensorflow.keras.callbacks import ModelCheckpoint, TensorBoard, EarlyStopping, ReduceLROnPlateau\n",
    "from pathlib import Path\n",
    "import pickle\n",
    "\n",
    "@dataclass\n",
    "class Callbacks:\n",
    "    root_dir: Path\n",
    "    patience: int = 5\n",
    "    factor: float = 0.1\n",
    "    min_lr: float = 1e-6\n",
    "\n",
    "\n",
    "    def get_callbacks(self) -> list:\n",
    "        \"\"\"\n",
    "        A class that generates a set of callbacks for use in Keras model training.\n",
    "\n",
    "        Attributes:\n",
    "            log_dir (str): The directory to store the TensorBoard logs.\n",
    "            checkpoint_dir (str): The directory to store the model checkpoint files.\n",
    "            patience (int): The number of epochs with no improvement after which training will be stopped.\n",
    "            factor (float): The factor by which the learning rate will be reduced on plateau.\n",
    "            min_lr (float): The minimum learning rate.\n",
    "    \"\"\"\n",
    "        \n",
    "        checkpoint_dir = self.root_dir + '/ckpt'\n",
    "        # Create the ModelCheckpoint callback\n",
    "        model_checkpoint = ModelCheckpoint(\n",
    "            os.path.join(checkpoint_dir, 'model-{epoch:02d}-{val_accuracy:.2f}.keras'),\n",
    "            monitor='val_accuracy',\n",
    "            save_best_only=True,\n",
    "            save_weights_only=False\n",
    "        )\n",
    "        log_dir = self.root_dir + '/logs'\n",
    "        # Create the TensorBoard callback\n",
    "        tensorboard = TensorBoard(\n",
    "            log_dir=log_dir,\n",
    "            histogram_freq=1,\n",
    "            write_graph=True,\n",
    "            write_images=True\n",
    "        )\n",
    "\n",
    "        # Create the EarlyStopping callback\n",
    "        early_stopping = EarlyStopping(\n",
    "            monitor='val_loss',\n",
    "            patience=self.patience,\n",
    "            verbose=1\n",
    "        )\n",
    "\n",
    "        # Create the ReduceLROnPlateau callback\n",
    "        reduce_lr = ReduceLROnPlateau(\n",
    "            monitor='val_loss',\n",
    "            factor=self.factor,\n",
    "            patience=self.patience // 2,\n",
    "            min_lr=self.min_lr,\n",
    "            verbose=1\n",
    "        )\n",
    "\n",
    "        logger.info(\"Callbacks initialized successfully.\")\n",
    "\n",
    "        callbacks = [model_checkpoint, tensorboard, early_stopping]\n",
    "        callbacks_path = os.path.join(self.root_dir, \"callbacks.pickle\")\n",
    "        with open(callbacks_path, 'wb') as handle:\n",
    "            pickle.dump(callbacks, handle, protocol=pickle.HIGHEST_PROTOCOL)\n",
    "\n",
    "        return [model_checkpoint, tensorboard, early_stopping, reduce_lr]\n"
   ]
  },
  {
   "cell_type": "code",
   "execution_count": 20,
   "metadata": {},
   "outputs": [],
   "source": [
    "from brainMRI.constants import *\n",
    "from brainMRI.utils.helpers import load_config, create_directories\n",
    "\n",
    "class ConfigHandler:\n",
    "    def __init__(self, file_path=CONFIG_FILE_PATH, params_path = PARAMS_FILE_PATH):\n",
    "        self.config = load_config(file_path)\n",
    "        self.params = load_config(params_path)\n",
    "        create_directories([self.config.root_dir])\n",
    "\n",
    "    \n",
    "    def get_callbacks_config(self) -> Callbacks:\n",
    "        config = self.config.callbacks\n",
    "        params = self.params.callbacks\n",
    "        create_directories([config.root_dir])\n",
    "\n",
    "        callbacks_config = Callbacks(\n",
    "            root_dir=config.root_dir,\n",
    "            patience=params.patience,\n",
    "            factor=params.factor,\n",
    "            min_lr=params.min_lr\n",
    "        )\n",
    "        return callbacks_config"
   ]
  },
  {
   "cell_type": "code",
   "execution_count": 21,
   "metadata": {},
   "outputs": [
    {
     "name": "stdout",
     "output_type": "stream",
     "text": [
      "[2024-05-18 09:56:56,373: INFO: helpers: YAML file: config\\config.yaml loaded successfully]\n",
      "[2024-05-18 09:56:56,384: INFO: helpers: YAML file: params.yaml loaded successfully]\n",
      "[2024-05-18 09:56:56,386: INFO: helpers: Created directory at: project_outputs]\n",
      "[2024-05-18 09:56:56,388: INFO: helpers: Created directory at: project_outputs/callbacks]\n",
      "[2024-05-18 09:56:56,390: INFO: 671079601: Callbacks initialized successfully.]\n",
      "[<keras.src.callbacks.model_checkpoint.ModelCheckpoint object at 0x0000027E82681580>, <keras.src.callbacks.tensorboard.TensorBoard object at 0x0000027E835D3F20>, <keras.src.callbacks.early_stopping.EarlyStopping object at 0x0000027E835B4E60>, <keras.src.callbacks.reduce_lr_on_plateau.ReduceLROnPlateau object at 0x0000027E835B68A0>]\n"
     ]
    }
   ],
   "source": [
    "try:\n",
    "    config = ConfigHandler()\n",
    "    callbacks_config = config.get_callbacks_config()\n",
    "    f = callbacks_config.get_callbacks()\n",
    "   \n",
    "    print(f)\n",
    "except Exception as e:\n",
    "    raise e"
   ]
  },
  {
   "cell_type": "code",
   "execution_count": null,
   "metadata": {},
   "outputs": [],
   "source": []
  }
 ],
 "metadata": {
  "kernelspec": {
   "display_name": "brainMRI",
   "language": "python",
   "name": "python3"
  },
  "language_info": {
   "codemirror_mode": {
    "name": "ipython",
    "version": 3
   },
   "file_extension": ".py",
   "mimetype": "text/x-python",
   "name": "python",
   "nbconvert_exporter": "python",
   "pygments_lexer": "ipython3",
   "version": "3.12.0"
  }
 },
 "nbformat": 4,
 "nbformat_minor": 2
}
